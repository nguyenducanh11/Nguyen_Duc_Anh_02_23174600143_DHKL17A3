{
 "cells": [
  {
   "cell_type": "code",
   "execution_count": 21,
   "metadata": {},
   "outputs": [],
   "source": [
    "import numpy as np"
   ]
  },
  {
   "cell_type": "markdown",
   "metadata": {},
   "source": [
    "<font color='pink' size='5'>1. Đọc Dữ Liệu Từ File CSV\n",
    "</font>\n"
   ]
  },
  {
   "cell_type": "code",
   "execution_count": 22,
   "metadata": {},
   "outputs": [
    {
     "name": "stdout",
     "output_type": "stream",
     "text": [
      "id,Tên sinh viên,HP 1,HP 2,HP 3\n",
      "\n",
      "1,Nguyễn Văn Bình,3.04,3.39,6.7\n",
      "\n",
      "2,Lê Thị Na,5.8,6.41,6.62\n",
      "\n",
      "3,Trần Văn Thành,2.59,3.57,9.16\n",
      "\n",
      "4,Phạm Thị Hồng,3.81,8.78,9.24\n",
      "\n",
      "5,Bùi Văn An,8.91,9.64,6.39\n",
      "\n",
      "6,Hoàng Thị Lan,3.23,4.72,6.17\n",
      "\n",
      "7,Vũ Văn Hùng,2.35,3.29,6.89\n",
      "\n",
      "8,Đặng Thị Mai,2.48,3.81,4.84\n",
      "\n",
      "9,Đỗ Văn Hải,3.23,2.61,4.52\n",
      "\n",
      "10,Ngô Thị Thanh,7.02,9.01,9.15\n",
      "\n",
      "11,Lương Văn Dũng,2.29,4.48,5.51\n",
      "\n",
      "12,Mai Thị Hằng,3.51,7.19,5.13\n",
      "\n",
      "13,Dương Văn Long,6.74,7.78,6.19\n",
      "\n",
      "14,Nguyễn Thị Hà,9.86,4.64,3.33\n",
      "\n",
      "15,Trần Văn Tuấn,8.04,5.12,4.77\n",
      "\n",
      "16,Lê Văn Phúc,2.74,8.88,5.8\n",
      "\n",
      "17,Phạm Thị Nhung,3.04,6.88,3.91\n",
      "\n",
      "18,Hoàng Văn Nam,5.87,4.41,8.84\n",
      "\n",
      "19,Bùi Thị Lan,8.46,2.63,4.91\n",
      "\n",
      "20,Vũ Thị Thanh,3.74,6.71,3.44\n",
      "\n",
      "21,Đặng Văn Hùng,5.67,8.05,6.03\n",
      "\n",
      "22,Đỗ Thị Hồng,8.12,2.46,3.87\n",
      "\n",
      "23,Ngô Văn Thành,9.4,5.31,5.13\n",
      "\n",
      "24,Lương Thị Mai,3.91,5.09,8.82\n",
      "\n",
      "25,Mai Văn Dũng,4.26,5.78,8.14\n",
      "\n",
      "26,Dương Thị Hằng,4.41,2.66,5.4\n",
      "\n",
      "27,Nguyễn Văn Long,3.23,8.3,8.64\n",
      "\n",
      "28,Trần Thị Hà,9.25,8.29,9.1\n",
      "\n",
      "29,Lê Văn Tuấn,6.08,2.67,6.39\n",
      "\n",
      "30,Phạm Thị Phúc,3.85,7.71,5.75\n",
      "\n"
     ]
    }
   ],
   "source": [
    "\"\"\"Đọc dữ liệu điểm số từ file 'diem_hp.csv' vào một list.\"\"\"\n",
    "file_path = r'D:/python kì 1/thuc hanh lab/lab2/data_lab2_Numpy/diem_hoc_phan.csv'\n",
    "with open(file_path, 'r', encoding='utf-8') as f:  # Sử dụng encoding phù hợp\n",
    "    lines = f.readlines()\n",
    "\n",
    "#in ra\n",
    "for line in lines:\n",
    "    print(line)"
   ]
  },
  {
   "cell_type": "code",
   "execution_count": 23,
   "metadata": {},
   "outputs": [
    {
     "name": "stdout",
     "output_type": "stream",
     "text": [
      "[['1', 'Nguyễn Văn Bình', '3.04', '3.39', '6.7'], ['2', 'Lê Thị Na', '5.8', '6.41', '6.62'], ['3', 'Trần Văn Thành', '2.59', '3.57', '9.16'], ['4', 'Phạm Thị Hồng', '3.81', '8.78', '9.24'], ['5', 'Bùi Văn An', '8.91', '9.64', '6.39'], ['6', 'Hoàng Thị Lan', '3.23', '4.72', '6.17'], ['7', 'Vũ Văn Hùng', '2.35', '3.29', '6.89'], ['8', 'Đặng Thị Mai', '2.48', '3.81', '4.84'], ['9', 'Đỗ Văn Hải', '3.23', '2.61', '4.52'], ['10', 'Ngô Thị Thanh', '7.02', '9.01', '9.15'], ['11', 'Lương Văn Dũng', '2.29', '4.48', '5.51'], ['12', 'Mai Thị Hằng', '3.51', '7.19', '5.13'], ['13', 'Dương Văn Long', '6.74', '7.78', '6.19'], ['14', 'Nguyễn Thị Hà', '9.86', '4.64', '3.33'], ['15', 'Trần Văn Tuấn', '8.04', '5.12', '4.77'], ['16', 'Lê Văn Phúc', '2.74', '8.88', '5.8'], ['17', 'Phạm Thị Nhung', '3.04', '6.88', '3.91'], ['18', 'Hoàng Văn Nam', '5.87', '4.41', '8.84'], ['19', 'Bùi Thị Lan', '8.46', '2.63', '4.91'], ['20', 'Vũ Thị Thanh', '3.74', '6.71', '3.44'], ['21', 'Đặng Văn Hùng', '5.67', '8.05', '6.03'], ['22', 'Đỗ Thị Hồng', '8.12', '2.46', '3.87'], ['23', 'Ngô Văn Thành', '9.4', '5.31', '5.13'], ['24', 'Lương Thị Mai', '3.91', '5.09', '8.82'], ['25', 'Mai Văn Dũng', '4.26', '5.78', '8.14'], ['26', 'Dương Thị Hằng', '4.41', '2.66', '5.4'], ['27', 'Nguyễn Văn Long', '3.23', '8.3', '8.64'], ['28', 'Trần Thị Hà', '9.25', '8.29', '9.1'], ['29', 'Lê Văn Tuấn', '6.08', '2.67', '6.39'], ['30', 'Phạm Thị Phúc', '3.85', '7.71', '5.75']]\n",
      "[[3.04 3.39 6.7 ]\n",
      " [5.8  6.41 6.62]\n",
      " [2.59 3.57 9.16]\n",
      " [3.81 8.78 9.24]\n",
      " [8.91 9.64 6.39]\n",
      " [3.23 4.72 6.17]\n",
      " [2.35 3.29 6.89]\n",
      " [2.48 3.81 4.84]\n",
      " [3.23 2.61 4.52]\n",
      " [7.02 9.01 9.15]\n",
      " [2.29 4.48 5.51]\n",
      " [3.51 7.19 5.13]\n",
      " [6.74 7.78 6.19]\n",
      " [9.86 4.64 3.33]\n",
      " [8.04 5.12 4.77]\n",
      " [2.74 8.88 5.8 ]\n",
      " [3.04 6.88 3.91]\n",
      " [5.87 4.41 8.84]\n",
      " [8.46 2.63 4.91]\n",
      " [3.74 6.71 3.44]\n",
      " [5.67 8.05 6.03]\n",
      " [8.12 2.46 3.87]\n",
      " [9.4  5.31 5.13]\n",
      " [3.91 5.09 8.82]\n",
      " [4.26 5.78 8.14]\n",
      " [4.41 2.66 5.4 ]\n",
      " [3.23 8.3  8.64]\n",
      " [9.25 8.29 9.1 ]\n",
      " [6.08 2.67 6.39]\n",
      " [3.85 7.71 5.75]]\n"
     ]
    }
   ],
   "source": [
    "#Chuyển đổi list này thành một mảng NumPy để thực hiện các phân tích.Phân Tích \n",
    "# Loại bỏ dòng đầu là header, và chia các giá trị bằng dấu phẩy\n",
    "raw_data = [line.strip().split(',') for line in lines[1:]]\n",
    "print(raw_data)\n",
    "\n",
    "# Chuyển dữ liệu cột điểm sang dạng NumPy array\n",
    "diem_array = np.array([[float(value) for value in row[2:]] for row in raw_data])\n",
    "print(diem_array)"
   ]
  },
  {
   "cell_type": "markdown",
   "metadata": {},
   "source": [
    "<font color='pink' size='5'>2. Qui đổi từ thang điểm 10 sang điểm tín chỉ</font>\n"
   ]
  },
  {
   "cell_type": "code",
   "execution_count": 24,
   "metadata": {},
   "outputs": [
    {
     "name": "stdout",
     "output_type": "stream",
     "text": [
      "Kết quả quy đổi từ thang điểm 10 sang điểm tín chỉ:\n",
      "[['F' 'F' 'C+']\n",
      " ['C' 'F' 'C+']\n",
      " ['F' 'F' 'A']\n",
      " ['F' 'A' 'A']\n",
      " ['A' 'A' 'F']\n",
      " ['F' 'D' 'F']\n",
      " ['F' 'F' 'C+']\n",
      " ['F' 'F' 'D']\n",
      " ['F' 'F' 'D']\n",
      " ['B' 'A' 'A']\n",
      " ['F' 'D' 'C']\n",
      " ['F' 'B' 'D+']\n",
      " ['C+' 'B' 'F']\n",
      " ['A' 'D' 'F']\n",
      " ['B+' 'D+' 'D']\n",
      " ['F' 'A' 'C']\n",
      " ['F' 'C+' 'F']\n",
      " ['C' 'D' 'A']\n",
      " ['B+' 'F' 'D']\n",
      " ['F' 'C+' 'F']\n",
      " ['C' 'B+' 'F']\n",
      " ['B+' 'F' 'F']\n",
      " ['A' 'D+' 'D+']\n",
      " ['F' 'D+' 'A']\n",
      " ['D' 'C' 'B+']\n",
      " ['D' 'F' 'D+']\n",
      " ['F' 'B+' 'A']\n",
      " ['A' 'B+' 'A']\n",
      " ['F' 'F' 'F']\n",
      " ['F' 'B' 'C']]\n"
     ]
    }
   ],
   "source": [
    "\"\"\"8.5 <= điểm <=10 thì tương ứng điểm ‘A’ \n",
    "8.0 <=điểm <=8.4 ứng với điểm ‘B+’ \n",
    "7.0<= điểm <8 ứng điểm B \n",
    "6.5 <=điểm<7 điểm C+ \n",
    "5.5 <=điểm < 6 điểm C \n",
    "5.0<=điểm < 5.5 điểm D+ \n",
    "4.0 <=điểm <5 điểm D \n",
    "điểm < 4 ứng điểm F \"\"\"\n",
    "def quy_doi_diem(diem):\n",
    "    if 8.5 <= diem <= 10:\n",
    "        return 'A'\n",
    "    elif 8.0 <= diem < 8.5:\n",
    "        return 'B+'\n",
    "    elif 7.0 <= diem < 8:\n",
    "        return 'B'\n",
    "    elif 6.5 <= diem < 7:\n",
    "        return 'C+'\n",
    "    elif 5.5 <= diem < 6:\n",
    "        return 'C'\n",
    "    elif 5.0 <= diem < 5.5:\n",
    "        return 'D+'\n",
    "    elif 4.0 <= diem < 5:\n",
    "        return 'D'\n",
    "    else:\n",
    "        return 'F'\n",
    "\n",
    "# Áp dụng quy đổi cho từng điểm trong mảng\n",
    "diem_tin_chi = np.vectorize(quy_doi_diem)(diem_array)\n",
    "print(\"Kết quả quy đổi từ thang điểm 10 sang điểm tín chỉ:\")\n",
    "print(diem_tin_chi)"
   ]
  },
  {
   "cell_type": "markdown",
   "metadata": {},
   "source": [
    "<font color='pink' size='5'>3. Chia tách Dữ Liệu theo học phần để phân tích\n",
    "</font>\n"
   ]
  },
  {
   "cell_type": "code",
   "execution_count": 25,
   "metadata": {},
   "outputs": [
    {
     "name": "stdout",
     "output_type": "stream",
     "text": [
      "[3.04 5.8  2.59 3.81 8.91 3.23 2.35 2.48 3.23 7.02 2.29 3.51 6.74 9.86\n",
      " 8.04 2.74 3.04 5.87 8.46 3.74 5.67 8.12 9.4  3.91 4.26 4.41 3.23 9.25\n",
      " 6.08 3.85]\n",
      "[3.39 6.41 3.57 8.78 9.64 4.72 3.29 3.81 2.61 9.01 4.48 7.19 7.78 4.64\n",
      " 5.12 8.88 6.88 4.41 2.63 6.71 8.05 2.46 5.31 5.09 5.78 2.66 8.3  8.29\n",
      " 2.67 7.71]\n",
      "[6.7  6.62 9.16 9.24 6.39 6.17 6.89 4.84 4.52 9.15 5.51 5.13 6.19 3.33\n",
      " 4.77 5.8  3.91 8.84 4.91 3.44 6.03 3.87 5.13 8.82 8.14 5.4  8.64 9.1\n",
      " 6.39 5.75]\n"
     ]
    }
   ],
   "source": [
    "#Chia tách dữ liệu để phân tích điểm số của mỗi học phần riêng biệ\n",
    "diem_hp1 = diem_array[:, 0]\n",
    "diem_hp2 = diem_array[:, 1]\n",
    "diem_hp3 = diem_array[:, 2]\n",
    "print(diem_hp1)\n",
    "print(diem_hp2)\n",
    "print(diem_hp3)"
   ]
  },
  {
   "cell_type": "markdown",
   "metadata": {},
   "source": [
    "<font color='pink' size='5'>4. Phân tích dữ liệu theo từng học phần</font>\n"
   ]
  },
  {
   "cell_type": "code",
   "execution_count": 26,
   "metadata": {},
   "outputs": [
    {
     "name": "stdout",
     "output_type": "stream",
     "text": [
      "Phân tích điểm HP1:\n",
      "Tổng điểm: 154.92999999999998\n",
      "Điểm trung bình: 5.16\n",
      "Độ lệch chuẩn: 2.41\n",
      "\n",
      "\n",
      "Phân tích điểm HP2:\n",
      "Tổng điểm: 170.27\n",
      "Điểm trung bình: 5.68\n",
      "Độ lệch chuẩn: 2.25\n",
      "\n",
      "\n",
      "Phân tích điểm HP3:\n",
      "Tổng điểm: 188.78\n",
      "Điểm trung bình: 6.29\n",
      "Độ lệch chuẩn: 1.81\n",
      "\n",
      "\n"
     ]
    }
   ],
   "source": [
    "#Phân tích tổng, trung bình, và độ lệch chuẩn cho mỗi học phần.\n",
    "def phan_tich_diem(diem_hp, ten_hp):\n",
    "    tong_diem_hp = np.sum(diem_hp)\n",
    "    diem_trung_binh_hp = np.mean(diem_hp)\n",
    "    do_lech_chuan_hp = np.std(diem_hp) \n",
    "\n",
    "    print(f\"Phân tích điểm {ten_hp}:\")\n",
    "    print(f\"Tổng điểm: {tong_diem_hp}\")\n",
    "    print(f\"Điểm trung bình: {diem_trung_binh_hp:.2f}\")\n",
    "    print(f\"Độ lệch chuẩn: {do_lech_chuan_hp:.2f}\")\n",
    "    print(\"\\n\")\n",
    "\n",
    "phan_tich_diem(diem_hp1, 'HP1')\n",
    "phan_tich_diem(diem_hp2, 'HP2')\n",
    "phan_tich_diem(diem_hp3, 'HP3')"
   ]
  },
  {
   "cell_type": "markdown",
   "metadata": {},
   "source": [
    "<font color='pink' size='5'>5. Kết hợp dữ liệu để phân tích tổng quan</font>\n"
   ]
  },
  {
   "cell_type": "code",
   "execution_count": 27,
   "metadata": {},
   "outputs": [
    {
     "name": "stdout",
     "output_type": "stream",
     "text": [
      "Phân tích điểm tổng hợp:\n",
      "Số lượng sinh viên đạt điểm A: 15\n",
      "Số lượng sinh viên đạt điểm B+: 7\n",
      "Số lượng sinh viên đạt điểm B: 4\n",
      "Số lượng sinh viên đạt điểm C+: 6\n",
      "Số lượng sinh viên đạt điểm C: 7\n",
      "Số lượng sinh viên đạt điểm D+: 6\n",
      "Số lượng sinh viên đạt điểm D: 10\n",
      "Số lượng sinh viên đạt điểm F: 35\n"
     ]
    }
   ],
   "source": [
    "#Tính toán số lượng sinh viên đạt từng loại điểm chữ (A, B+, B,...) trên tổng số học phần.\n",
    "loai_diem = ['A', 'B+', 'B', 'C+', 'C', 'D+', 'D', 'F']\n",
    "ket_qua_tong_hop = {}\n",
    "for loai in loai_diem:\n",
    "    ket_qua_tong_hop[loai] = np.sum(diem_tin_chi == loai)\n",
    "\n",
    "print(\"Phân tích điểm tổng hợp:\")\n",
    "for loai, so_luong in ket_qua_tong_hop.items():\n",
    "    print(f\"Số lượng sinh viên đạt điểm {loai}: {so_luong}\")"
   ]
  }
 ],
 "metadata": {
  "kernelspec": {
   "display_name": "Python 3",
   "language": "python",
   "name": "python3"
  },
  "language_info": {
   "codemirror_mode": {
    "name": "ipython",
    "version": 3
   },
   "file_extension": ".py",
   "mimetype": "text/x-python",
   "name": "python",
   "nbconvert_exporter": "python",
   "pygments_lexer": "ipython3",
   "version": "3.9.0"
  }
 },
 "nbformat": 4,
 "nbformat_minor": 2
}

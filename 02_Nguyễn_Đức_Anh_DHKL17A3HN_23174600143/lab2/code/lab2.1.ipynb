{
 "cells": [
  {
   "cell_type": "code",
   "execution_count": 12,
   "metadata": {},
   "outputs": [],
   "source": [
    "import numpy as np"
   ]
  },
  {
   "cell_type": "markdown",
   "metadata": {},
   "source": [
    "<font color='pink' size='5'>1. Tạo Dữ Liệu Mô Phỏng Nhiệt Độ </font>\n"
   ]
  },
  {
   "cell_type": "code",
   "execution_count": 13,
   "metadata": {},
   "outputs": [
    {
     "name": "stdout",
     "output_type": "stream",
     "text": [
      "Nhiệt độ thường hàng ngày: [21.24 38.52 31.96 27.96 14.68 14.68 11.74 35.99 28.03 31.24 10.62 39.1\n",
      " 34.97 16.37 15.45 15.5  19.13 25.74 22.96 18.74 28.36 14.18 18.76 20.99\n",
      " 23.68 33.56 15.99 25.43 27.77 11.39]\n",
      "Nhiệt độ trung bình trong tháng: 23.16 độ C\n"
     ]
    }
   ],
   "source": [
    "np.random.seed(42)\n",
    "data = np.round(np.random.uniform(10,40,30),2)\n",
    "\n",
    "print(\"Nhiệt độ thường hàng ngày:\", data)\n",
    "\n",
    "nhiet_do_tb = np.mean(data)\n",
    "print(f\"Nhiệt độ trung bình trong tháng: {nhiet_do_tb:.2f} độ C\")"
   ]
  },
  {
   "cell_type": "markdown",
   "metadata": {},
   "source": [
    "<font color='pink' size='5'>2. Phân Tích Xu Hướng Nhiệt Độ </font>\n"
   ]
  },
  {
   "cell_type": "code",
   "execution_count": 14,
   "metadata": {},
   "outputs": [
    {
     "name": "stdout",
     "output_type": "stream",
     "text": [
      "Ngày 12 có nhiệt độ cao nhất là: 39.1\n",
      "Ngày 11 có nhiệt độ cao nhất là: 10.62\n",
      "\n",
      "Sự chênh lệch nhiệt độ giữa các ngày: [17.28  6.56  4.   13.28  0.    2.94 24.25  7.96  3.21 20.62 28.48  4.13\n",
      " 18.6   0.92  0.05  3.63  6.61  2.78  4.22  9.62 14.18  4.58  2.23  2.69\n",
      "  9.88 17.57  9.44  2.34 16.38]\n",
      "Ngày có sự biến đổi nhiệt độ cao nhất: Ngày 11 -> Ngày 12, Chênh lệch: 28.48°C\n"
     ]
    }
   ],
   "source": [
    "nhiet_do_max = np.max(data) \n",
    "nhiet_do_min = np.min(data) \n",
    "ngay_nhiet_do_max = np.argmax(data) + 1\n",
    "ngay_nhiet_do_min = np.argmin(data) + 1\n",
    "\n",
    "print(f\"Ngày {ngay_nhiet_do_max} có nhiệt độ cao nhất là: {nhiet_do_max}\")\n",
    "print(f\"Ngày {ngay_nhiet_do_min} có nhiệt độ cao nhất là: {nhiet_do_min}\")\n",
    "\n",
    "# Sự chênh lệch nhiệt độ giữa các ngày\n",
    "data_chenh_lech_nhiet_do_giua_days = np.abs(np.diff(data))  #np.diff(): Tính hiệu số giữa các phần tử liên tiếp\n",
    "nhiet_do_chenh_lech_max = np.max(data_chenh_lech_nhiet_do_giua_days)\n",
    "day_nhiet_do_chenh_lech_max = np.argmax(data_chenh_lech_nhiet_do_giua_days) + 1  # Chênh lệch giữa ngày i và i+1\n",
    "\n",
    "print(f\"\\nSự chênh lệch nhiệt độ giữa các ngày: {data_chenh_lech_nhiet_do_giua_days}\")\n",
    "print(f\"Ngày có sự biến đổi nhiệt độ cao nhất: Ngày {day_nhiet_do_chenh_lech_max} -> Ngày {day_nhiet_do_chenh_lech_max + 1}, Chênh lệch: {nhiet_do_chenh_lech_max:.2f}°C\")\n"
   ]
  },
  {
   "cell_type": "markdown",
   "metadata": {},
   "source": [
    "<font color='pink' size='5'>3. Áp dụng Fancy Indexing </font>\n"
   ]
  },
  {
   "cell_type": "code",
   "execution_count": 15,
   "metadata": {},
   "outputs": [
    {
     "name": "stdout",
     "output_type": "stream",
     "text": [
      "\n",
      "Nhiệt độ các ngày trên 20°C: [21.24 38.52 31.96 27.96 35.99 28.03 31.24 39.1  34.97 25.74 22.96 28.36\n",
      " 20.99 23.68 33.56 25.43 27.77]\n",
      "Nhiệt độ các ngày 5, 10, 15, 20, 25 lần lượt là: [14.68 31.24 15.45 18.74 23.68]\n",
      "Nhiệt độ các ngày trên trung bình (23.16 °C): [38.52 31.96 27.96 35.99 28.03 31.24 39.1  34.97 25.74 28.36 23.68 33.56\n",
      " 25.43 27.77]\n",
      "Nhiệt độ các ngày chẵn: [38.52 27.96 14.68 35.99 31.24 39.1  16.37 15.5  25.74 18.74 14.18 20.99\n",
      " 33.56 25.43 11.39]\n",
      "Nhiệt độ các ngày lẻ: [21.24 31.96 14.68 11.74 28.03 10.62 34.97 15.45 19.13 22.96 28.36 18.76\n",
      " 23.68 15.99 27.77]\n"
     ]
    }
   ],
   "source": [
    "# a) Lấy tất cả các ngày có nhiệt độ cao hơn 20 độ C\n",
    "hon20 = data[data > 20]\n",
    "print(f\"\\nNhiệt độ các ngày trên 20°C: {hon20}\")\n",
    "\n",
    "# b) Lấy nhiệt độ của ngày 5, 10, 15, 20 và 25\n",
    "nhiet_do_days = data[[4, 9, 14, 19, 24]]  # Vì chỉ số mảng bắt đầu từ 0\n",
    "print(f\"Nhiệt độ các ngày 5, 10, 15, 20, 25 lần lượt là: {nhiet_do_days}\")\n",
    "\n",
    "# c) Tìm nhiệt độ của các ngày có nhiệt độ trên trung bình\n",
    "days_nhiet_do_tren_tb = data[data > nhiet_do_tb]\n",
    "print(f\"Nhiệt độ các ngày trên trung bình ({nhiet_do_tb:.2f} °C): {days_nhiet_do_tren_tb}\")\n",
    "\n",
    "# d) Lấy nhiệt độ của các ngày chẵn và lẻ trong tháng\n",
    "day_chan = data[1::2]  # Các ngày chẵn: chỉ số lẻ trong mảng  ([1::2] vị trí index 1 bắt đầu đến hết cách nhau 2 index)\n",
    "day_le = data[0::2]   # Các ngày lẻ: chỉ số chẵn trong mảng\n",
    "\n",
    "print(f\"Nhiệt độ các ngày chẵn: {day_chan}\")\n",
    "print(f\"Nhiệt độ các ngày lẻ: {day_le}\")"
   ]
  }
 ],
 "metadata": {
  "kernelspec": {
   "display_name": "Python 3",
   "language": "python",
   "name": "python3"
  },
  "language_info": {
   "codemirror_mode": {
    "name": "ipython",
    "version": 3
   },
   "file_extension": ".py",
   "mimetype": "text/x-python",
   "name": "python",
   "nbconvert_exporter": "python",
   "pygments_lexer": "ipython3",
   "version": "3.9.0"
  }
 },
 "nbformat": 4,
 "nbformat_minor": 2
}
